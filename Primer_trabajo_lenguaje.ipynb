{
  "nbformat": 4,
  "nbformat_minor": 0,
  "metadata": {
    "colab": {
      "provenance": [],
      "toc_visible": true,
      "authorship_tag": "ABX9TyNzvTgem9GOczIvXdzg2ZRd",
      "include_colab_link": true
    },
    "kernelspec": {
      "name": "python3",
      "display_name": "Python 3"
    },
    "language_info": {
      "name": "python"
    }
  },
  "cells": [
    {
      "cell_type": "markdown",
      "metadata": {
        "id": "view-in-github",
        "colab_type": "text"
      },
      "source": [
        "<a href=\"https://colab.research.google.com/github/hector-figueroa/-5fgf/blob/main/Primer_trabajo_lenguaje.ipynb\" target=\"_parent\"><img src=\"https://colab.research.google.com/assets/colab-badge.svg\" alt=\"Open In Colab\"/></a>"
      ]
    },
    {
      "cell_type": "markdown",
      "source": [
        "**Lenguaje y Algoritmo**\n",
        "\n",
        "Lenguajes de programaciònn\n",
        "\n",
        "*  c\n",
        "*  c++\n",
        "*  Java\n",
        "*  Fortram\n",
        "*  Delphi\n",
        "\n",
        "**Algoritmo**\n",
        "Conjunto de pasos, procediminetos o acciones que nos permita alcanzar un resultado o resolver un problema.\n",
        "\n",
        "Caracteristicas:\n",
        "\n",
        "Determinismo.\n",
        "Precisiòn.\n",
        "Finitud.\n",
        "\n",
        "(Cairò et al., 1993)\n",
        "\n",
        "**Datos**\n",
        "\n",
        "Valores, enteros yvalores reales.\n",
        "valores enteros pueden estar precedidos por los signos(+ -)\n",
        "\n",
        "128 152s- 174 8 538 - 14 789\n",
        "-7.5 128.8 -37.805 129.7 16 000.50\n",
        "\n",
        " **Datos Alfanumèricos**\n",
        " * caracter\n",
        " * cadena\n",
        "\n",
        " (a,b,c ..... z)\n",
        " (0,1,2,3....9)\n",
        " ( #, ?, $, %, *, etc.)\n",
        "\n",
        " \"a\" \"B\" \"$\" \"9\"\n",
        "\n",
        " \"abc\" \"$9#7\" \"Heeeectoooor\" \"Patroclo!!!\" \"754-27-22\"\n",
        "\n",
        "**Datos Lògicos**\n",
        "booleanos\n",
        "verdadero  (true)\n",
        "falso      (false)\n",
        "\n"
      ],
      "metadata": {
        "id": "CQ6stnn4CkDJ"
      }
    },
    {
      "cell_type": "code",
      "source": [
        "#tipos de Variable en Python\n",
        "#El tipo de variable estarà determinado por el tipo de dato que almacena\n",
        "#Enteros: vasta agregar un valor entero\n",
        "\n",
        "a=10\n",
        "b=11\n",
        "c= a+b\n",
        "\n",
        "#Decimales: deben agregarse un nùmero con punto flotante\n",
        "C= 3.1416\n",
        "\n",
        "#Booleanos: Datos con verdadero y falso\n",
        "# Se pueden usar palabras: True y False\n",
        "\n",
        "Verdad= True\n",
        "Falso= False\n",
        "\n",
        "verdad= 1\n",
        "falso= 0\n",
        "\n",
        "#Texto o Cadena de Strig\n",
        "saludo = \"Hola mundo\"\n",
        "nombre = \"Juan\"\n",
        "uno = 'a'\n",
        "dos = 'b'\n",
        "\n",
        "print(a)\n",
        "print(b)\n",
        "print(c)\n",
        "print(C)\n",
        "print(Verdad)\n",
        "print(Falso)\n",
        "print(verdad)\n",
        "print(falso)\n",
        "print(saludo)\n",
        "print(nombre)\n",
        "print(uno)\n",
        "print(dos)\n",
        "\n",
        "\n",
        "\n",
        "\n",
        "\n"
      ],
      "metadata": {
        "colab": {
          "base_uri": "https://localhost:8080/"
        },
        "id": "ebU9yHQLMKU7",
        "outputId": "b811377e-7ed6-4062-9d2e-70785ba9e58c"
      },
      "execution_count": 10,
      "outputs": [
        {
          "output_type": "stream",
          "name": "stdout",
          "text": [
            "10\n",
            "11\n",
            "21\n",
            "3.1416\n",
            "True\n",
            "False\n",
            "1\n",
            "0\n",
            "Hola mundo\n",
            "Juan\n",
            "a\n",
            "b\n"
          ]
        }
      ]
    }
  ]
}